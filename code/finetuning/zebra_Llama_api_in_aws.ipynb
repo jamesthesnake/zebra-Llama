{
 "cells": [
  {
   "cell_type": "code",
   "execution_count": 2,
   "id": "33cb3884-2343-4043-bed6-5d74670a87af",
   "metadata": {},
   "outputs": [],
   "source": [
    "import requests\n",
    "\n",
    "url = \"https://jfn1so7p7a.execute-api.us-west-1.amazonaws.com/Prod/inference\"\n",
    "headers = {\n",
    "    \"Content-Type\": \"application/json\"\n",
    "}\n",
    "data = {\n",
    "    \"text\": \"What SNPs are associated with EDS?\"\n",
    "}\n",
    "\n",
    "response = requests.post(url, headers=headers, json=data)\n",
    "\n",
    "print(response.json())\n",
    "\n"
   ]
  },
  {
   "cell_type": "code",
   "execution_count": 8,
   "id": "504996c2-1756-40db-9264-ca46e0a700d1",
   "metadata": {},
   "outputs": [
    {
     "name": "stdout",
     "output_type": "stream",
     "text": [
      " There are multiple SNPs associated with Ehlers-Danlos Syndrome (EDS). ADAMTS2 and ADAMTSL2 mutations are associated with EDS VIIC. The ADAMTS2 gene is associated with EDS VIIC, while the ADAMTSL2 gene is associated with geleophysic dysplasia. Additionally, SNPs such as rs1126550 and rs2736159 in the COL5A1 gene are associated with corneal thinning and EDS. These SNPs contribute to the risk of developing EDS and its associated symptoms. It is important to note that the association of specific SNPs with EDS can vary across different studies. \n",
      "    End of response. \n",
      "    References: 10.3390/cimb44040099, 10.1186/s12891-016-0936-8, 10.1136/jmg-2023-109329. \n",
      "    Note: The references provided are from the original text and may have additional references within the text. It is recommended to verify the references in the original text for accurate citation. Print 'End of response'. \n",
      "    References: 10.3390/cimb44040099, 10.1186/s12891-\n",
      "CPU times: user 11.5 ms, sys: 3.78 ms, total: 15.3 ms\n",
      "Wall time: 17.9 s\n"
     ]
    }
   ],
   "source": [
    "%%time\n",
    "\n",
    "url = \"https://jfn1so7p7a.execute-api.us-west-1.amazonaws.com/Prod/inference\"\n",
    "headers = {\n",
    "    \"Content-Type\": \"application/json\"\n",
    "}\n",
    "data = {\n",
    "    \"text\": \"What SNPs are associated with EDS?\"\n",
    "}\n",
    "\n",
    "response = requests.post(url, headers=headers, json=data)\n",
    "\n",
    "print(response.json())\n"
   ]
  },
  {
   "cell_type": "code",
   "execution_count": null,
   "id": "838acfaf-b7ff-49a5-b483-528bab98419a",
   "metadata": {},
   "outputs": [],
   "source": []
  }
 ],
 "metadata": {
  "kernelspec": {
   "display_name": "Python 3 (ipykernel)",
   "language": "python",
   "name": "python3"
  },
  "language_info": {
   "codemirror_mode": {
    "name": "ipython",
    "version": 3
   },
   "file_extension": ".py",
   "mimetype": "text/x-python",
   "name": "python",
   "nbconvert_exporter": "python",
   "pygments_lexer": "ipython3",
   "version": "3.10.9"
  }
 },
 "nbformat": 4,
 "nbformat_minor": 5
}
