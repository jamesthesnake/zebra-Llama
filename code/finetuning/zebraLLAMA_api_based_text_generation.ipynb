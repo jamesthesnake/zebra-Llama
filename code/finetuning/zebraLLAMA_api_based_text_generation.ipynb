{
 "cells": [
  {
   "cell_type": "code",
   "execution_count": 27,
   "id": "dcd38704-87b4-4483-9230-18986c4c544a",
   "metadata": {},
   "outputs": [],
   "source": [
    "\n",
    "\n",
    "import requests\n",
    "from llama_index.core import Settings\n",
    "from llama_index.embeddings.openai import OpenAIEmbedding\n",
    "\n",
    "from pinecone import Pinecone\n",
    "from dotenv import load_dotenv, find_dotenv\n",
    "import os\n",
    "\n",
    "import json\n",
    "\n",
    "import requests\n",
    "\n"
   ]
  },
  {
   "cell_type": "code",
   "execution_count": 8,
   "id": "ec9900b0-3fb6-486d-b2ee-8372ddf6a0a4",
   "metadata": {},
   "outputs": [],
   "source": [
    "load_dotenv(os.path.join(os.path.expanduser('~'), '.openai_config.env'))\n",
    "api_key = os.environ.get('HACKATHON_API_KEY')\n",
    "\n",
    "load_dotenv(os.path.join(os.path.expanduser('~'), '.pinecone_config.env'))\n",
    "pinecone_api_key = os.environ.get('ANDREW_API_KEY')\n",
    "\n"
   ]
  },
  {
   "cell_type": "code",
   "execution_count": 63,
   "id": "8eebf0cb-9148-4273-8178-527e99e56309",
   "metadata": {},
   "outputs": [],
   "source": [
    "\n",
    "def get_rag_context(query, top_k=5):\n",
    "    query_embedding = embed_model.get_text_embedding(\n",
    "        query\n",
    "    )\n",
    "    retrieved_doc = pinecone_index.query(\n",
    "        vector=query_embedding, \n",
    "        top_k=top_k, \n",
    "        include_metadata=True\n",
    "    )\n",
    "    extracted_context_summary = list(map(lambda x:json.loads(x.metadata['_node_content'])['metadata']['section_summary'], retrieved_doc.matches))\n",
    "    provenance = list(map(lambda x:x.metadata['c_document_id'], retrieved_doc.matches))\n",
    "    context = ''\n",
    "    for i in range(top_k):\n",
    "        context += extracted_context_summary[i] + '(Ref: ' + provenance[i] + '). '\n",
    "    return context\n",
    "\n",
    "\n",
    "def format_prompt(user_message, rag_context, system_prompt):\n",
    "    formatted_prompt = f'''\n",
    "    <|begin_of_text|><|start_header_id|>system<|end_header_id|>\n",
    "    \n",
    "    {system_prompt}<|eot_id|><|start_header_id|>user<|end_header_id|>\n",
    "    \n",
    "    Context: {rag_context}\n",
    "    User message: {user_message}\n",
    "    Always make sure to provide references in your answer. You can find the references in the Context marked as '(Ref: '. After providing references, print 'End of response'<|eot_id|><|start_header_id|>assistant<|end_header_id|>\n",
    "    '''\n",
    "    return formatted_prompt\n",
    "\n",
    "\n",
    "\n",
    "\n",
    "def query_zebra_llama(user_message):\n",
    "    system_prompt = '''\n",
    "    You are an expert in the rare disease Ehlers-Danlos syndrome (EDS).\n",
    "    You are supposed to answer the question asked by the user.\n",
    "    Your response should be grounded on the given Context in the user message.\n",
    "    If no context is given, try to answer as accurately as possible. \n",
    "    If you don't know the answer, admit that you don't instead of making one up.   \n",
    "    '''\n",
    "    headers = {\n",
    "    \t\"Accept\" : \"application/json\",\n",
    "    \t\"Content-Type\": \"application/json\" \n",
    "    }\n",
    "    rag_context = get_rag_context(user_message)\n",
    "    input_prompt = format_prompt(user_message, rag_context, system_prompt)\n",
    "    payload = {\n",
    "        \"inputs\": input_prompt,\n",
    "        \"parameters\": {\n",
    "            \"temperature\": 0.7,\n",
    "            \"max_new_tokens\": 256,\n",
    "            \"stop_sequences\" : ['End of response'],        \n",
    "            \"return_full_text\" : False,\n",
    "            \"frequency_penalty\" : 1\n",
    "        }\n",
    "    }\n",
    "    response = requests.post(API_URL, headers=headers, json=payload)\n",
    "    if response.status_code == 200:\n",
    "        return response.json()[0]['generated_text']\n",
    "    else:\n",
    "        return None\n",
    "\n"
   ]
  },
  {
   "cell_type": "code",
   "execution_count": 64,
   "id": "7455dbe8-0d9a-4119-9769-e189900d13d6",
   "metadata": {},
   "outputs": [],
   "source": [
    "\n",
    "embedding_model = \"text-embedding-ada-002\"\n",
    "\n",
    "embed_model = OpenAIEmbedding(\n",
    "    model=embedding_model,\n",
    "    api_key=api_key,\n",
    ")\n",
    "\n",
    "\n",
    "Settings.embed_model = embed_model\n",
    "\n",
    "pc = Pinecone(api_key=pinecone_api_key)\n",
    "\n",
    "index_name = \"eds\"\n",
    "\n",
    "pinecone_index = pc.Index(index_name)\n",
    "\n",
    "\n",
    "API_URL = \"https://pl56muwe315crf88.us-east-1.aws.endpoints.huggingface.cloud\"\n",
    "\n"
   ]
  },
  {
   "cell_type": "code",
   "execution_count": 74,
   "id": "59d154b2-8638-40e7-98f3-5bdf764abe4d",
   "metadata": {},
   "outputs": [
    {
     "name": "stdout",
     "output_type": "stream",
     "text": [
      "CPU times: user 72.4 ms, sys: 13.5 ms, total: 85.9 ms\n",
      "Wall time: 18.4 s\n"
     ]
    }
   ],
   "source": [
    "%%time\n",
    "\n",
    "user_message = \"What mutations cause EDS?\"\n",
    "\n",
    "output = query_zebra_llama(user_message)\n",
    "\n",
    "\n"
   ]
  },
  {
   "cell_type": "code",
   "execution_count": 75,
   "id": "32550b2e-e43c-4d16-8643-8e69c42b568a",
   "metadata": {},
   "outputs": [
    {
     "name": "stdout",
     "output_type": "stream",
     "text": [
      " Ehlers-Danlos Syndrome (EDS) is caused by a type of point mutation in the COL3A1 gene, which is responsible for the formation of collagen type III. This mutation leads to a defect in collagen synthesis, which in turn causes the symptoms of EDS. Additionally, a new variant of a splice site mutation in the COL3A1 gene has been identified as a cause of EDS. This mutation disrupts the normal process of collagen synthesis, resulting in the characteristic features of EDS. The genetic testing methods used to confirm the presence of this mutation in a specific case are described in the passage. It highlights the importance of genetic testing in identifying the underlying cause of EDS, which can help in the diagnosis and management of the condition. \n",
      "    End of response. \n",
      "    References:\n",
      "    (Ref: 10.1186/s12891-016-0936-8)\n",
      "    (Ref: 10.1186/s12891-016-0936-8)\n",
      "    (Ref: 10.1002/ajmg.c.31550)\n",
      "    (Ref: 10.1186/s12891-016-0936-8)\n",
      "    (Ref: 10.17992/lbl.2012.\n"
     ]
    }
   ],
   "source": [
    "\n",
    "print(output)\n"
   ]
  },
  {
   "cell_type": "code",
   "execution_count": null,
   "id": "b1bcd896-d4bc-40e9-9258-747698f4c010",
   "metadata": {},
   "outputs": [],
   "source": []
  }
 ],
 "metadata": {
  "kernelspec": {
   "display_name": "Python 3 (ipykernel)",
   "language": "python",
   "name": "python3"
  },
  "language_info": {
   "codemirror_mode": {
    "name": "ipython",
    "version": 3
   },
   "file_extension": ".py",
   "mimetype": "text/x-python",
   "name": "python",
   "nbconvert_exporter": "python",
   "pygments_lexer": "ipython3",
   "version": "3.10.9"
  }
 },
 "nbformat": 4,
 "nbformat_minor": 5
}
