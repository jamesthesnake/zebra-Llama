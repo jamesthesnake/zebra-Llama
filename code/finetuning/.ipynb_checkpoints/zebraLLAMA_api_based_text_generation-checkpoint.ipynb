{
 "cells": [
  {
   "cell_type": "code",
   "execution_count": 27,
   "id": "dcd38704-87b4-4483-9230-18986c4c544a",
   "metadata": {},
   "outputs": [],
   "source": [
    "\n",
    "\n",
    "import requests\n",
    "from llama_index.core import Settings\n",
    "from llama_index.embeddings.openai import OpenAIEmbedding\n",
    "\n",
    "from pinecone import Pinecone\n",
    "from dotenv import load_dotenv, find_dotenv\n",
    "import os\n",
    "\n",
    "import json\n",
    "\n",
    "import requests\n",
    "\n"
   ]
  },
  {
   "cell_type": "code",
   "execution_count": 8,
   "id": "ec9900b0-3fb6-486d-b2ee-8372ddf6a0a4",
   "metadata": {},
   "outputs": [],
   "source": [
    "load_dotenv(os.path.join(os.path.expanduser('~'), '.openai_config.env'))\n",
    "api_key = os.environ.get('HACKATHON_API_KEY')\n",
    "\n",
    "load_dotenv(os.path.join(os.path.expanduser('~'), '.pinecone_config.env'))\n",
    "pinecone_api_key = os.environ.get('ANDREW_API_KEY')\n",
    "\n"
   ]
  },
  {
   "cell_type": "code",
   "execution_count": 63,
   "id": "8eebf0cb-9148-4273-8178-527e99e56309",
   "metadata": {},
   "outputs": [],
   "source": [
    "\n",
    "def get_rag_context(query, top_k=5):\n",
    "    query_embedding = embed_model.get_text_embedding(\n",
    "        query\n",
    "    )\n",
    "    retrieved_doc = pinecone_index.query(\n",
    "        vector=query_embedding, \n",
    "        top_k=top_k, \n",
    "        include_metadata=True\n",
    "    )\n",
    "    extracted_context_summary = list(map(lambda x:json.loads(x.metadata['_node_content'])['metadata']['section_summary'], retrieved_doc.matches))\n",
    "    provenance = list(map(lambda x:x.metadata['c_document_id'], retrieved_doc.matches))\n",
    "    context = ''\n",
    "    for i in range(top_k):\n",
    "        context += extracted_context_summary[i] + '(Ref: ' + provenance[i] + '). '\n",
    "    return context\n",
    "\n",
    "\n",
    "def format_prompt(user_message, rag_context, system_prompt):\n",
    "    formatted_prompt = f'''\n",
    "    <|begin_of_text|><|start_header_id|>system<|end_header_id|>\n",
    "    \n",
    "    {system_prompt}<|eot_id|><|start_header_id|>user<|end_header_id|>\n",
    "    \n",
    "    Context: {rag_context}\n",
    "    User message: {user_message}\n",
    "    Always make sure to provide references in your answer. You can find the references in the Context marked as '(Ref: '. After providing references, print 'End of response'<|eot_id|><|start_header_id|>assistant<|end_header_id|>\n",
    "    '''\n",
    "    return formatted_prompt\n",
    "\n",
    "\n",
    "\n",
    "\n",
    "def query_zebra_llama(user_message):\n",
    "    system_prompt = '''\n",
    "    You are an expert in the rare disease Ehlers-Danlos syndrome (EDS).\n",
    "    You are supposed to answer the question asked by the user.\n",
    "    Your response should be grounded on the given Context in the user message.\n",
    "    If no context is given, try to answer as accurately as possible. \n",
    "    If you don't know the answer, admit that you don't instead of making one up.   \n",
    "    '''\n",
    "    headers = {\n",
    "    \t\"Accept\" : \"application/json\",\n",
    "    \t\"Content-Type\": \"application/json\" \n",
    "    }\n",
    "    rag_context = get_rag_context(user_message)\n",
    "    input_prompt = format_prompt(user_message, rag_context, system_prompt)\n",
    "    payload = {\n",
    "        \"inputs\": input_prompt,\n",
    "        \"parameters\": {\n",
    "            \"temperature\": 0.7,\n",
    "            \"max_new_tokens\": 256,\n",
    "            \"stop_sequences\" : ['End of response'],        \n",
    "            \"return_full_text\" : False,\n",
    "            \"frequency_penalty\" : 1\n",
    "        }\n",
    "    }\n",
    "    response = requests.post(API_URL, headers=headers, json=payload)\n",
    "    if response.status_code == 200:\n",
    "        return response.json()[0]['generated_text']\n",
    "    else:\n",
    "        return None\n",
    "\n"
   ]
  },
  {
   "cell_type": "code",
   "execution_count": 64,
   "id": "7455dbe8-0d9a-4119-9769-e189900d13d6",
   "metadata": {},
   "outputs": [],
   "source": [
    "\n",
    "embedding_model = \"text-embedding-ada-002\"\n",
    "\n",
    "embed_model = OpenAIEmbedding(\n",
    "    model=embedding_model,\n",
    "    api_key=api_key,\n",
    ")\n",
    "\n",
    "\n",
    "Settings.embed_model = embed_model\n",
    "\n",
    "pc = Pinecone(api_key=pinecone_api_key)\n",
    "\n",
    "index_name = \"eds\"\n",
    "\n",
    "pinecone_index = pc.Index(index_name)\n",
    "\n",
    "\n",
    "API_URL = \"https://pl56muwe315crf88.us-east-1.aws.endpoints.huggingface.cloud\"\n",
    "\n"
   ]
  },
  {
   "cell_type": "code",
   "execution_count": 72,
   "id": "59d154b2-8638-40e7-98f3-5bdf764abe4d",
   "metadata": {},
   "outputs": [
    {
     "name": "stdout",
     "output_type": "stream",
     "text": [
      "CPU times: user 44.6 ms, sys: 7.9 ms, total: 52.5 ms\n",
      "Wall time: 17.6 s\n"
     ]
    }
   ],
   "source": [
    "%%time\n",
    "\n",
    "user_message = \"Is there any microbiome study related to EDS?\"\n",
    "\n",
    "output = query_zebra_llama(user_message)\n",
    "\n",
    "\n"
   ]
  },
  {
   "cell_type": "code",
   "execution_count": 73,
   "id": "32550b2e-e43c-4d16-8643-8e69c42b568a",
   "metadata": {},
   "outputs": [
    {
     "name": "stdout",
     "output_type": "stream",
     "text": [
      " Yes, there are microbiome studies related to EDS. One such study is a section in the journal 'Microorganisms' that discusses impaired gene expression in women with Ehlers-Danlos Syndromes (EDS). The study highlights the importance of microRNAs in the pathogenesis of EDS. Other studies mentioned include a comprehensive transcriptome profiling and molecular mechanism exploration in Periodontal Ehlers-Danlos Syndrome (pEDS) patients, genetic and molecular insights into EDS, Long COVID19 Syndromes, and Connective Tissue Disorders, and the impact of the ketogenic diet on gut microbiota composition in mouse models of Autism Spectrum Disorder (ASD). These studies demonstrate the connection between microbiome and EDS, highlighting potential biomarkers and molecular mechanisms involved in the pathogenesis of EDS. \n",
      "    End of response. \n",
      "    References:\n",
      "    1. Microorganisms (2022) 10(10): 1499; doi: 10.3390/microorganisms1010101499\n",
      "    2. Journal of Functional Genomics (2022) 22(3): e834928; doi: 10.3389/fgene.2022.834928\n",
      "    3. bioRxiv (\n"
     ]
    }
   ],
   "source": [
    "\n",
    "print(output)\n"
   ]
  },
  {
   "cell_type": "code",
   "execution_count": null,
   "id": "b1bcd896-d4bc-40e9-9258-747698f4c010",
   "metadata": {},
   "outputs": [],
   "source": []
  }
 ],
 "metadata": {
  "kernelspec": {
   "display_name": "Python 3 (ipykernel)",
   "language": "python",
   "name": "python3"
  },
  "language_info": {
   "codemirror_mode": {
    "name": "ipython",
    "version": 3
   },
   "file_extension": ".py",
   "mimetype": "text/x-python",
   "name": "python",
   "nbconvert_exporter": "python",
   "pygments_lexer": "ipython3",
   "version": "3.10.9"
  }
 },
 "nbformat": 4,
 "nbformat_minor": 5
}
